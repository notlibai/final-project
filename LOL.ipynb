{
 "cells": [
  {
   "cell_type": "code",
   "execution_count": 2,
   "metadata": {},
   "outputs": [],
   "source": [
    "import requests,re"
   ]
  },
  {
   "cell_type": "code",
   "execution_count": 3,
   "metadata": {},
   "outputs": [],
   "source": [
    "import pandas as pd"
   ]
  },
  {
   "cell_type": "code",
   "execution_count": 4,
   "metadata": {},
   "outputs": [],
   "source": [
    "head = {'User-Agent':'Mozilla/5.0 (Windows NT 10.0; Win64; x64) AppleWebKit/537.36 (KHTML, like Gecko) Chrome/58.0.3029.110 Safari/537.36 Edge/16.16299'}"
   ]
  },
  {
   "cell_type": "code",
   "execution_count": 5,
   "metadata": {},
   "outputs": [],
   "source": [
    "url = 'http://www.laoyuegou.com/x/zh-cn/lol/lol/godrank.html?region=cn&area=3'"
   ]
  },
  {
   "cell_type": "code",
   "execution_count": 6,
   "metadata": {},
   "outputs": [],
   "source": [
    "html_cn = requests.get(url,headers = head)"
   ]
  },
  {
   "cell_type": "code",
   "execution_count": 8,
   "metadata": {},
   "outputs": [],
   "source": [
    "ren = re.compile(r'class=\"cn-li.*?href=\"(.*?)\">',re.S)"
   ]
  },
  {
   "cell_type": "code",
   "execution_count": 22,
   "metadata": {},
   "outputs": [],
   "source": [
    "zhanqu_list_cn = re.findall(ren,html_cn.text)"
   ]
  },
  {
   "cell_type": "code",
   "execution_count": 10,
   "metadata": {},
   "outputs": [],
   "source": [
    "rem = re.compile(r'class=\"subStrTitle\">(.*?)</span>.*?server\">(.*?)</div>.*?class=\"icon-dan\"><em>(.*?)</em>.*?<span>(.*?)<em class=\"color-win\">(.*?)<.*?\\t<span>/</span>.*?<span>(.*?)<em class=\"color-defeat\">(.*?)</em>.*?\"percentage\">(.*?)</span>.*?/score/(.*?).png.*?color-zhongdan\">(.*?)</span>.*?alt=\"(.*?)\"/>.*?alt=\"(.*?)\"/>.*?alt=\"(.*?)\"/>', re.S)"
   ]
  },
  {
   "cell_type": "code",
   "execution_count": 15,
   "metadata": {},
   "outputs": [],
   "source": [
    "data = re.findall(rem,html_cn.text)"
   ]
  },
  {
   "cell_type": "code",
   "execution_count": 17,
   "metadata": {},
   "outputs": [],
   "source": [
    "data2 = pd.DataFrame(data)"
   ]
  },
  {
   "cell_type": "code",
   "execution_count": 20,
   "metadata": {},
   "outputs": [],
   "source": [
    "data2.to_csv(r'C:\\Users\\caiha\\Desktop\\New folder (2)\\LOL.csv',header = False,index = False, mode= 'a+')"
   ]
  },
  {
   "cell_type": "code",
   "execution_count": 26,
   "metadata": {},
   "outputs": [],
   "source": [
    "def upwodn_cn(zhanqu_list_cn):\n",
    "    for zhanqu in zhanqu_list_cn:\n",
    "        for m in range(1,11):\n",
    "            url = zhanqu +'&page='+ str(m)\n",
    "            im = requests.get(url, headers = head)\n",
    "            if im.status_code == 200:\n",
    "                data=re.findall(rem,im.text)\n",
    "                data = pd.DataFrame(data)\n",
    "                data.to_csv(r'C:\\Users\\caiha\\Desktop\\New folder (2)\\LOL.csv',header = False,index = False, mode= 'a+')"
   ]
  },
  {
   "cell_type": "code",
   "execution_count": 27,
   "metadata": {},
   "outputs": [],
   "source": [
    "upwodn_cn(zhanqu_list_cn)"
   ]
  },
  {
   "cell_type": "code",
   "execution_count": 1,
   "metadata": {},
   "outputs": [],
   "source": [
    "import pandas"
   ]
  },
  {
   "cell_type": "code",
   "execution_count": 2,
   "metadata": {},
   "outputs": [],
   "source": [
    "import matplotlib.pyplot as plt"
   ]
  },
  {
   "cell_type": "code",
   "execution_count": 3,
   "metadata": {},
   "outputs": [],
   "source": [
    "import matplotlib as mpl\n",
    "mpl.rcParams['font.sans-serif']= ['SimHei']"
   ]
  },
  {
   "cell_type": "code",
   "execution_count": 4,
   "metadata": {},
   "outputs": [],
   "source": [
    "plt.rcParams[\"axes.labelsize\"] = 16.\n",
    "plt.rcParams[\"xtick.labelsize\"] = 14.\n",
    "plt.rcParams[\"ytick.labelsize\"] = 14.\n",
    "plt.rcParams[\"legend.fontsize\"] = 12.\n",
    "plt.rcParams[\"figure.figsize\"] = [15.,6.]"
   ]
  },
  {
   "cell_type": "code",
   "execution_count": 5,
   "metadata": {},
   "outputs": [],
   "source": [
    "data = pandas.read_csv(r'C:\\Users\\caiha\\Desktop\\New folder (2)\\LOL.csv - LOL.csv')"
   ]
  },
  {
   "cell_type": "code",
   "execution_count": 6,
   "metadata": {},
   "outputs": [],
   "source": [
    "data_cn = data[0:196]"
   ]
  },
  {
   "cell_type": "code",
   "execution_count": 9,
   "metadata": {},
   "outputs": [
    {
     "data": {
      "text/html": [
       "<div>\n",
       "<style scoped>\n",
       "    .dataframe tbody tr th:only-of-type {\n",
       "        vertical-align: middle;\n",
       "    }\n",
       "\n",
       "    .dataframe tbody tr th {\n",
       "        vertical-align: top;\n",
       "    }\n",
       "\n",
       "    .dataframe thead th {\n",
       "        text-align: right;\n",
       "    }\n",
       "</style>\n",
       "<table border=\"1\" class=\"dataframe\">\n",
       "  <thead>\n",
       "    <tr style=\"text-align: right;\">\n",
       "      <th></th>\n",
       "      <th>ID</th>\n",
       "      <th>Area</th>\n",
       "      <th>Winning Point</th>\n",
       "      <th>Victory Times</th>\n",
       "      <th>Victory</th>\n",
       "      <th>Defeat Times</th>\n",
       "      <th>Defeat</th>\n",
       "      <th>Win Rate</th>\n",
       "      <th>Performance</th>\n",
       "      <th>Prefer Location</th>\n",
       "      <th>Prefer Hero 1</th>\n",
       "      <th>Prefer Hero 2</th>\n",
       "      <th>Prefer Hero 3</th>\n",
       "    </tr>\n",
       "  </thead>\n",
       "  <tbody>\n",
       "    <tr>\n",
       "      <th>191</th>\n",
       "      <td>dog2</td>\n",
       "      <td>America</td>\n",
       "      <td>469</td>\n",
       "      <td>0</td>\n",
       "      <td>victory</td>\n",
       "      <td>0</td>\n",
       "      <td>defeat</td>\n",
       "      <td>100.00%</td>\n",
       "      <td>S</td>\n",
       "      <td>Jungle</td>\n",
       "      <td>Lee Sin</td>\n",
       "      <td>Jarvan IV</td>\n",
       "      <td>Maokai</td>\n",
       "    </tr>\n",
       "    <tr>\n",
       "      <th>192</th>\n",
       "      <td>INTelligent feed</td>\n",
       "      <td>America</td>\n",
       "      <td>469</td>\n",
       "      <td>237</td>\n",
       "      <td>victory</td>\n",
       "      <td>219</td>\n",
       "      <td>defeat</td>\n",
       "      <td>52.00%</td>\n",
       "      <td>A+</td>\n",
       "      <td>Jungle</td>\n",
       "      <td>TwistedFate</td>\n",
       "      <td>XinZhao</td>\n",
       "      <td>Jhin</td>\n",
       "    </tr>\n",
       "    <tr>\n",
       "      <th>193</th>\n",
       "      <td>GL IM ZWAG</td>\n",
       "      <td>America</td>\n",
       "      <td>468</td>\n",
       "      <td>688</td>\n",
       "      <td>victory</td>\n",
       "      <td>657</td>\n",
       "      <td>defeat</td>\n",
       "      <td>51.20%</td>\n",
       "      <td>A-</td>\n",
       "      <td>Sup</td>\n",
       "      <td>Kassdin</td>\n",
       "      <td>Thresh</td>\n",
       "      <td>Alistar</td>\n",
       "    </tr>\n",
       "    <tr>\n",
       "      <th>194</th>\n",
       "      <td>fwii</td>\n",
       "      <td>America</td>\n",
       "      <td>467</td>\n",
       "      <td>803</td>\n",
       "      <td>victory</td>\n",
       "      <td>784</td>\n",
       "      <td>defeat</td>\n",
       "      <td>50.60%</td>\n",
       "      <td>A-</td>\n",
       "      <td>Top</td>\n",
       "      <td>Sion</td>\n",
       "      <td>Taric</td>\n",
       "      <td>Nautilus</td>\n",
       "    </tr>\n",
       "    <tr>\n",
       "      <th>195</th>\n",
       "      <td>Based Stevens</td>\n",
       "      <td>America</td>\n",
       "      <td>467</td>\n",
       "      <td>0</td>\n",
       "      <td>victory</td>\n",
       "      <td>0</td>\n",
       "      <td>defeat</td>\n",
       "      <td>100.00%</td>\n",
       "      <td>S</td>\n",
       "      <td>Mid</td>\n",
       "      <td>Jhin</td>\n",
       "      <td>Varus</td>\n",
       "      <td>Lee Sin</td>\n",
       "    </tr>\n",
       "  </tbody>\n",
       "</table>\n",
       "</div>"
      ],
      "text/plain": [
       "                   ID     Area  Winning Point  Victory Times  Victory  \\\n",
       "191              dog2  America            469              0  victory   \n",
       "192  INTelligent feed  America            469            237  victory   \n",
       "193        GL IM ZWAG  America            468            688  victory   \n",
       "194              fwii  America            467            803  victory   \n",
       "195     Based Stevens  America            467              0  victory   \n",
       "\n",
       "     Defeat Times  Defeat Win Rate Performance Prefer Location Prefer Hero 1  \\\n",
       "191             0  defeat  100.00%           S          Jungle       Lee Sin   \n",
       "192           219  defeat   52.00%          A+          Jungle   TwistedFate   \n",
       "193           657  defeat   51.20%          A-             Sup       Kassdin   \n",
       "194           784  defeat   50.60%          A-             Top          Sion   \n",
       "195             0  defeat  100.00%           S             Mid          Jhin   \n",
       "\n",
       "    Prefer Hero 2 Prefer Hero 3  \n",
       "191     Jarvan IV        Maokai  \n",
       "192       XinZhao          Jhin  \n",
       "193        Thresh       Alistar  \n",
       "194         Taric      Nautilus  \n",
       "195         Varus       Lee Sin  "
      ]
     },
     "execution_count": 9,
     "metadata": {},
     "output_type": "execute_result"
    }
   ],
   "source": [
    "data_cn.tail()"
   ]
  },
  {
   "cell_type": "code",
   "execution_count": 10,
   "metadata": {},
   "outputs": [
    {
     "data": {
      "text/html": [
       "<div>\n",
       "<style scoped>\n",
       "    .dataframe tbody tr th:only-of-type {\n",
       "        vertical-align: middle;\n",
       "    }\n",
       "\n",
       "    .dataframe tbody tr th {\n",
       "        vertical-align: top;\n",
       "    }\n",
       "\n",
       "    .dataframe thead th {\n",
       "        text-align: right;\n",
       "    }\n",
       "</style>\n",
       "<table border=\"1\" class=\"dataframe\">\n",
       "  <thead>\n",
       "    <tr style=\"text-align: right;\">\n",
       "      <th></th>\n",
       "      <th>Winning Point</th>\n",
       "      <th>Victory Times</th>\n",
       "      <th>Defeat Times</th>\n",
       "    </tr>\n",
       "  </thead>\n",
       "  <tbody>\n",
       "    <tr>\n",
       "      <th>count</th>\n",
       "      <td>196.000000</td>\n",
       "      <td>196.000000</td>\n",
       "      <td>196.000000</td>\n",
       "    </tr>\n",
       "    <tr>\n",
       "      <th>mean</th>\n",
       "      <td>618.489796</td>\n",
       "      <td>236.423469</td>\n",
       "      <td>201.709184</td>\n",
       "    </tr>\n",
       "    <tr>\n",
       "      <th>std</th>\n",
       "      <td>153.588945</td>\n",
       "      <td>247.895882</td>\n",
       "      <td>234.121954</td>\n",
       "    </tr>\n",
       "    <tr>\n",
       "      <th>min</th>\n",
       "      <td>467.000000</td>\n",
       "      <td>0.000000</td>\n",
       "      <td>0.000000</td>\n",
       "    </tr>\n",
       "    <tr>\n",
       "      <th>25%</th>\n",
       "      <td>511.750000</td>\n",
       "      <td>28.000000</td>\n",
       "      <td>15.500000</td>\n",
       "    </tr>\n",
       "    <tr>\n",
       "      <th>50%</th>\n",
       "      <td>569.500000</td>\n",
       "      <td>188.500000</td>\n",
       "      <td>151.500000</td>\n",
       "    </tr>\n",
       "    <tr>\n",
       "      <th>75%</th>\n",
       "      <td>671.500000</td>\n",
       "      <td>320.250000</td>\n",
       "      <td>271.000000</td>\n",
       "    </tr>\n",
       "    <tr>\n",
       "      <th>max</th>\n",
       "      <td>1220.000000</td>\n",
       "      <td>1642.000000</td>\n",
       "      <td>1591.000000</td>\n",
       "    </tr>\n",
       "  </tbody>\n",
       "</table>\n",
       "</div>"
      ],
      "text/plain": [
       "       Winning Point  Victory Times  Defeat Times\n",
       "count     196.000000     196.000000    196.000000\n",
       "mean      618.489796     236.423469    201.709184\n",
       "std       153.588945     247.895882    234.121954\n",
       "min       467.000000       0.000000      0.000000\n",
       "25%       511.750000      28.000000     15.500000\n",
       "50%       569.500000     188.500000    151.500000\n",
       "75%       671.500000     320.250000    271.000000\n",
       "max      1220.000000    1642.000000   1591.000000"
      ]
     },
     "execution_count": 10,
     "metadata": {},
     "output_type": "execute_result"
    }
   ],
   "source": [
    "data_cn.describe()"
   ]
  },
  {
   "cell_type": "code",
   "execution_count": 11,
   "metadata": {},
   "outputs": [
    {
     "data": {
      "text/plain": [
       "Index(['ID', 'Area', 'Winning Point', 'Victory Times', 'Victory',\n",
       "       'Defeat Times', 'Defeat', 'Win Rate', 'Performance', 'Prefer Location',\n",
       "       'Prefer Hero 1', 'Prefer Hero 2', 'Prefer Hero 3'],\n",
       "      dtype='object')"
      ]
     },
     "execution_count": 11,
     "metadata": {},
     "output_type": "execute_result"
    }
   ],
   "source": [
    "data.columns"
   ]
  },
  {
   "cell_type": "code",
   "execution_count": 13,
   "metadata": {},
   "outputs": [
    {
     "data": {
      "text/html": [
       "<div>\n",
       "<style scoped>\n",
       "    .dataframe tbody tr th:only-of-type {\n",
       "        vertical-align: middle;\n",
       "    }\n",
       "\n",
       "    .dataframe tbody tr th {\n",
       "        vertical-align: top;\n",
       "    }\n",
       "\n",
       "    .dataframe thead th {\n",
       "        text-align: right;\n",
       "    }\n",
       "</style>\n",
       "<table border=\"1\" class=\"dataframe\">\n",
       "  <thead>\n",
       "    <tr style=\"text-align: right;\">\n",
       "      <th></th>\n",
       "      <th>ID</th>\n",
       "      <th>Winning Point</th>\n",
       "    </tr>\n",
       "  </thead>\n",
       "  <tbody>\n",
       "    <tr>\n",
       "      <th>0</th>\n",
       "      <td>consensualclown1</td>\n",
       "      <td>1220</td>\n",
       "    </tr>\n",
       "    <tr>\n",
       "      <th>1</th>\n",
       "      <td>Humble Diligent</td>\n",
       "      <td>1170</td>\n",
       "    </tr>\n",
       "  </tbody>\n",
       "</table>\n",
       "</div>"
      ],
      "text/plain": [
       "                 ID  Winning Point\n",
       "0  consensualclown1           1220\n",
       "1   Humble Diligent           1170"
      ]
     },
     "execution_count": 13,
     "metadata": {},
     "output_type": "execute_result"
    }
   ],
   "source": [
    "data_cn.ix[0:1,['ID','Winning Point']]"
   ]
  },
  {
   "cell_type": "code",
   "execution_count": 14,
   "metadata": {},
   "outputs": [
    {
     "data": {
      "image/png": "[encoded data removed]",
      "text/plain": [
       "<matplotlib.figure.Figure at 0x21f08110630>"
      ]
     },
     "metadata": {},
     "output_type": "display_data"
    }
   ],
   "source": [
    "data_cn['Prefer Location'].value_counts().plot(kind = 'bar',rot = 45)\n",
    "plt.show()"
   ]
  },
  {
   "cell_type": "code",
   "execution_count": 16,
   "metadata": {},
   "outputs": [
    {
     "data": {
      "text/plain": [
       "<matplotlib.axes._subplots.AxesSubplot at 0x21f08540898>"
      ]
     },
     "execution_count": 16,
     "metadata": {},
     "output_type": "execute_result"
    },
    {
     "data": {
      "image/png": "[encoded data removed]",
      "text/plain": [
       "<matplotlib.figure.Figure at 0x21f08517f98>"
      ]
     },
     "metadata": {},
     "output_type": "display_data"
    }
   ],
   "source": [
    "pandas.concat([data_cn['Prefer Hero 1'],data_cn['Prefer Hero 2'],data_cn['Prefer Hero 3']]).value_counts().plot(kind = 'bar',rot = 90)"
   ]
  },
  {
   "cell_type": "code",
   "execution_count": 7,
   "metadata": {},
   "outputs": [
    {
     "data": {
      "image/png": "[encoded data removed]",
      "text/plain": [
       "<matplotlib.figure.Figure at 0x225450d2e48>"
      ]
     },
     "metadata": {},
     "output_type": "display_data"
    }
   ],
   "source": [
    "data_cn['Performance'].value_counts().plot(kind = 'bar',rot = 45)\n",
    "plt.show()"
   ]
  },
  {
   "cell_type": "code",
   "execution_count": null,
   "metadata": {},
   "outputs": [],
   "source": []
  }
 ],
 "metadata": {
  "kernelspec": {
   "display_name": "Python 3",
   "language": "python",
   "name": "python3"
  },
  "language_info": {
   "codemirror_mode": {
    "name": "ipython",
    "version": 3
   },
   "file_extension": ".py",
   "mimetype": "text/x-python",
   "name": "python",
   "nbconvert_exporter": "python",
   "pygments_lexer": "ipython3",
   "version": "3.6.4"
  }
 },
 "nbformat": 4,
 "nbformat_minor": 2
}
